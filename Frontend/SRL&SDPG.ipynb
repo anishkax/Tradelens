{
 "cells": [
  {
   "cell_type": "code",
   "execution_count": 7,
   "metadata": {
    "collapsed": true
   },
   "outputs": [
    {
     "name": "stdout",
     "output_type": "stream",
     "text": [
      "代码将在GPU上计算\n"
     ]
    },
    {
     "name": "stderr",
     "output_type": "stream",
     "text": [
      "Performing Single Factor Test: 100%|██████████| 258/258 [00:02<00:00, 108.59it/s]"
     ]
    },
    {
     "name": "stdout",
     "output_type": "stream",
     "text": [
      "选出的优质因子：\n",
      "                                                Factor  Accuracy\n",
      "192  ('technical_indicators_overbought_oversold', '...  0.502662\n",
      "201  ('technical_indicators_overbought_oversold', '...  0.473522\n",
      "197  ('technical_indicators_overbought_oversold', 'J')  0.469506\n",
      "193  ('technical_indicators_overbought_oversold', '...  0.453348\n",
      "185  ('technical_indicators_momentum_reversal', 'CMO')  0.423461\n",
      "187  ('technical_indicators_momentum_reversal', 'IMI')  0.420846\n",
      "135  ('liquidity_factor', 'Absolute_Return_to_Volume')  0.420659\n",
      "254          ('volatility_factor', 'Total_Volatility')  0.419819\n",
      "198  ('technical_indicators_overbought_oversold', 'K')  0.417951\n",
      "245  ('volatility_factor', 'Idiosyncratic_Volatility')  0.413094\n",
      "138  ('liquidity_factor', 'Capitalization_Adjusted_...  0.410666\n",
      "208         ('technical_indicators_trending', 'VMACD')  0.409545\n",
      "247      ('volatility_factor', 'Maximum_Daily_Return')  0.407677\n",
      "211         ('technical_indicators_volatility', 'CVI')  0.407397\n",
      "163                 ('momentum_factor', 'Week52_High')  0.404315\n"
     ]
    },
    {
     "name": "stderr",
     "output_type": "stream",
     "text": [
      "\n"
     ]
    }
   ],
   "source": [
    "import pandas as pd\n",
    "from sklearn.linear_model import LogisticRegression\n",
    "from sklearn.metrics import accuracy_score\n",
    "from tqdm import tqdm\n",
    "import torch\n",
    "\n",
    "# 检查是否有可用的GPU，如果没有则回退到CPU\n",
    "device = torch.device(\"cuda\" if torch.cuda.is_available() else \"cpu\")\n",
    "if device.type == \"cuda\":\n",
    "    print(\"代码将在GPU上计算\")\n",
    "else:\n",
    "    print(\"代码将在CPU上计算\")\n",
    "\n",
    "# 加载数据文件\n",
    "data = pd.read_csv('18-21_merged_data_label.csv')\n",
    "\n",
    "# 选择因子列的范围（第三列到第260列）\n",
    "factor_columns = data.columns[9:267]\n",
    "\n",
    "# 创建一个DataFrame用于存储结果\n",
    "result_df = pd.DataFrame(columns=['Factor', 'Accuracy'])\n",
    "\n",
    "# 将数据集划分为训练集和验证集\n",
    "train_data = data[data['trade_date'].between('2018-07-01', '2020-12-31')]\n",
    "test_data = data[data['trade_date'].between('2021-01-01', '2021-11-30')]\n",
    "\n",
    "train_features = train_data[factor_columns]\n",
    "test_features = test_data[factor_columns]\n",
    "train_labels = train_data['label'].astype(int)\n",
    "test_labels = test_data['label'].astype(int)\n",
    "\n",
    "\n",
    "# 迭代遍历每个因子并进行单因子检验\n",
    "for factor in tqdm(factor_columns, desc='Performing Single Factor Test'):\n",
    "    # 提取当前因子的训练集和测试集特征\n",
    "    train_feature = train_features[[factor]]\n",
    "    test_feature = test_features[[factor]]\n",
    "\n",
    "    # 创建并训练逻辑回归模型\n",
    "    model = LogisticRegression()\n",
    "    model.fit(train_feature, train_labels)\n",
    "\n",
    "    # 在测试集上进行预测并计算准确率\n",
    "    predictions = model.predict(test_feature)\n",
    "    accuracy = accuracy_score(test_labels, predictions)\n",
    "\n",
    "    # 将结果存储到DataFrame中\n",
    "    result_df = pd.concat([result_df, pd.DataFrame({'Factor': [factor], 'Accuracy': [accuracy]})], ignore_index=True)\n",
    "\n",
    "# 按准确率降序排序，选择前n个因子作为优质因子（可以根据需求修改n的值）\n",
    "n = 15\n",
    "selected_factors = result_df.sort_values('Accuracy', ascending=False).head(n)\n",
    "\n",
    "# 将结果存储到新的文件\n",
    "selected_factors.to_csv('18-21SelectedFactors.csv', index=False)\n",
    "\n",
    "# 显示结果\n",
    "print(\"选出的优质因子：\")\n",
    "print(selected_factors)\n"
   ]
  },
  {
   "cell_type": "code",
   "execution_count": 15,
   "metadata": {
    "collapsed": false
   },
   "outputs": [
    {
     "name": "stderr",
     "output_type": "stream",
     "text": [
      "                                                           \r"
     ]
    },
    {
     "name": "stdout",
     "output_type": "stream",
     "text": [
      "Epoch 1/20\n",
      "Train Loss: 0.8325, Train Acc: 0.6239\n",
      "Val Loss: 0.7524, Val Acc: 0.6695\n"
     ]
    },
    {
     "name": "stderr",
     "output_type": "stream",
     "text": [
      "                                                           \r"
     ]
    },
    {
     "name": "stdout",
     "output_type": "stream",
     "text": [
      "Epoch 2/20\n",
      "Train Loss: 0.7304, Train Acc: 0.6823\n",
      "Val Loss: 0.7313, Val Acc: 0.6726\n"
     ]
    },
    {
     "name": "stderr",
     "output_type": "stream",
     "text": [
      "                                                           \r"
     ]
    },
    {
     "name": "stdout",
     "output_type": "stream",
     "text": [
      "Epoch 3/20\n",
      "Train Loss: 0.6953, Train Acc: 0.7029\n",
      "Val Loss: 0.7003, Val Acc: 0.6946\n"
     ]
    },
    {
     "name": "stderr",
     "output_type": "stream",
     "text": [
      "                                                           \r"
     ]
    },
    {
     "name": "stdout",
     "output_type": "stream",
     "text": [
      "Epoch 4/20\n",
      "Train Loss: 0.6708, Train Acc: 0.7109\n",
      "Val Loss: 0.6876, Val Acc: 0.7104\n"
     ]
    },
    {
     "name": "stderr",
     "output_type": "stream",
     "text": [
      "                                                           \r"
     ]
    },
    {
     "name": "stdout",
     "output_type": "stream",
     "text": [
      "Epoch 5/20\n",
      "Train Loss: 0.6497, Train Acc: 0.7219\n",
      "Val Loss: 0.6817, Val Acc: 0.7124\n"
     ]
    },
    {
     "name": "stderr",
     "output_type": "stream",
     "text": [
      "                                                           \r"
     ]
    },
    {
     "name": "stdout",
     "output_type": "stream",
     "text": [
      "Epoch 6/20\n",
      "Train Loss: 0.6363, Train Acc: 0.7315\n",
      "Val Loss: 0.6591, Val Acc: 0.7220\n"
     ]
    },
    {
     "name": "stderr",
     "output_type": "stream",
     "text": [
      "                                                           \r"
     ]
    },
    {
     "name": "stdout",
     "output_type": "stream",
     "text": [
      "Epoch 7/20\n",
      "Train Loss: 0.6154, Train Acc: 0.7398\n",
      "Val Loss: 0.6464, Val Acc: 0.7297\n"
     ]
    },
    {
     "name": "stderr",
     "output_type": "stream",
     "text": [
      "                                                           \r"
     ]
    },
    {
     "name": "stdout",
     "output_type": "stream",
     "text": [
      "Epoch 8/20\n",
      "Train Loss: 0.6073, Train Acc: 0.7485\n",
      "Val Loss: 0.6491, Val Acc: 0.7332\n"
     ]
    },
    {
     "name": "stderr",
     "output_type": "stream",
     "text": [
      "                                                           \r"
     ]
    },
    {
     "name": "stdout",
     "output_type": "stream",
     "text": [
      "Epoch 9/20\n",
      "Train Loss: 0.5913, Train Acc: 0.7506\n",
      "Val Loss: 0.6527, Val Acc: 0.7224\n"
     ]
    },
    {
     "name": "stderr",
     "output_type": "stream",
     "text": [
      "                                                            \r"
     ]
    },
    {
     "name": "stdout",
     "output_type": "stream",
     "text": [
      "Epoch 10/20\n",
      "Train Loss: 0.5729, Train Acc: 0.7618\n",
      "Val Loss: 0.6364, Val Acc: 0.7402\n"
     ]
    },
    {
     "name": "stderr",
     "output_type": "stream",
     "text": [
      "                                                            \r"
     ]
    },
    {
     "name": "stdout",
     "output_type": "stream",
     "text": [
      "Epoch 11/20\n",
      "Train Loss: 0.5560, Train Acc: 0.7672\n",
      "Val Loss: 0.6244, Val Acc: 0.7398\n"
     ]
    },
    {
     "name": "stderr",
     "output_type": "stream",
     "text": [
      "                                                            \r"
     ]
    },
    {
     "name": "stdout",
     "output_type": "stream",
     "text": [
      "Epoch 12/20\n",
      "Train Loss: 0.5453, Train Acc: 0.7698\n",
      "Val Loss: 0.6133, Val Acc: 0.7444\n"
     ]
    },
    {
     "name": "stderr",
     "output_type": "stream",
     "text": [
      "                                                            \r"
     ]
    },
    {
     "name": "stdout",
     "output_type": "stream",
     "text": [
      "Epoch 13/20\n",
      "Train Loss: 0.5337, Train Acc: 0.7775\n",
      "Val Loss: 0.6118, Val Acc: 0.7479\n"
     ]
    },
    {
     "name": "stderr",
     "output_type": "stream",
     "text": [
      "                                                            \r"
     ]
    },
    {
     "name": "stdout",
     "output_type": "stream",
     "text": [
      "Epoch 14/20\n",
      "Train Loss: 0.5234, Train Acc: 0.7846\n",
      "Val Loss: 0.6126, Val Acc: 0.7463\n"
     ]
    },
    {
     "name": "stderr",
     "output_type": "stream",
     "text": [
      "                                                            \r"
     ]
    },
    {
     "name": "stdout",
     "output_type": "stream",
     "text": [
      "Epoch 15/20\n",
      "Train Loss: 0.5078, Train Acc: 0.7904\n",
      "Val Loss: 0.6216, Val Acc: 0.7413\n"
     ]
    },
    {
     "name": "stderr",
     "output_type": "stream",
     "text": [
      "                                                            \r"
     ]
    },
    {
     "name": "stdout",
     "output_type": "stream",
     "text": [
      "Epoch 16/20\n",
      "Train Loss: 0.5050, Train Acc: 0.7907\n",
      "Val Loss: 0.6037, Val Acc: 0.7622\n"
     ]
    },
    {
     "name": "stderr",
     "output_type": "stream",
     "text": [
      "                                                            \r"
     ]
    },
    {
     "name": "stdout",
     "output_type": "stream",
     "text": [
      "Epoch 17/20\n",
      "Train Loss: 0.4909, Train Acc: 0.7961\n",
      "Val Loss: 0.6059, Val Acc: 0.7548\n"
     ]
    },
    {
     "name": "stderr",
     "output_type": "stream",
     "text": [
      "                                                            \r"
     ]
    },
    {
     "name": "stdout",
     "output_type": "stream",
     "text": [
      "Epoch 18/20\n",
      "Train Loss: 0.4827, Train Acc: 0.8010\n",
      "Val Loss: 0.6072, Val Acc: 0.7514\n"
     ]
    },
    {
     "name": "stderr",
     "output_type": "stream",
     "text": [
      "                                                            \r"
     ]
    },
    {
     "name": "stdout",
     "output_type": "stream",
     "text": [
      "Epoch 19/20\n",
      "Train Loss: 0.4787, Train Acc: 0.8034\n",
      "Val Loss: 0.5915, Val Acc: 0.7556\n"
     ]
    },
    {
     "name": "stderr",
     "output_type": "stream",
     "text": [
      "                                                            \r"
     ]
    },
    {
     "name": "stdout",
     "output_type": "stream",
     "text": [
      "Epoch 20/20\n",
      "Train Loss: 0.4612, Train Acc: 0.8146\n",
      "Val Loss: 0.6091, Val Acc: 0.7556\n",
      "\n",
      "------------------------\n",
      "Final Evaluation\n",
      "------------------------\n",
      "Test Loss: 0.6163\n",
      "Test Acc: 0.7502\n"
     ]
    }
   ],
   "source": [
    "import pandas as pd\n",
    "import numpy as np\n",
    "from sklearn.model_selection import train_test_split\n",
    "from sklearn.metrics import accuracy_score\n",
    "import torch\n",
    "import torch.nn as nn\n",
    "import torch.optim as optim\n",
    "from torch.utils.data import Dataset, DataLoader\n",
    "from tqdm import tqdm\n",
    "\n",
    "# 设置随机种子\n",
    "seed = 42\n",
    "np.random.seed(seed)\n",
    "torch.manual_seed(seed)\n",
    "torch.cuda.manual_seed_all(seed)\n",
    "\n",
    "# 加载数据\n",
    "df = pd.read_csv('18-21_SRl&Factor&SDPG_CN_data.csv')\n",
    "# 选择需要的列\n",
    "selected_cols = list(df.columns[18:68]) + ['label', 'trade_date']\n",
    "df = df[selected_cols]\n",
    "\n",
    "# 划分训练集和测试集\n",
    "train_df = df[df['trade_date'].between('2018-07-01', '2020-12-31')]\n",
    "test_df = df[df['trade_date'].between('2021-01-01', '2021-11-30')]\n",
    "\n",
    "# 划分训练集和验证集\n",
    "train_df, val_df = train_test_split(train_df, test_size=0.2, random_state=seed)\n",
    "\n",
    "# 定义自定义数据集类\n",
    "class CustomDataset(Dataset):\n",
    "    def __init__(self, df):\n",
    "        self.df = df\n",
    "\n",
    "    def __len__(self):\n",
    "        return len(self.df)\n",
    "\n",
    "    def __getitem__(self, index):\n",
    "        data = self.df.iloc[index]\n",
    "\n",
    "        factor_data = torch.from_numpy(data[selected_cols[:-2]].values.astype(np.float32))\n",
    "\n",
    "        label = torch.tensor(int(data['label']), dtype=torch.long)\n",
    "\n",
    "        return {\n",
    "            'factor_data': factor_data,\n",
    "            'label': label\n",
    "        }\n",
    "\n",
    "# 设置模型参数\n",
    "batch_size = 16\n",
    "hidden_size = 128\n",
    "device = torch.device('cuda' if torch.cuda.is_available() else 'cpu')\n",
    "num_epochs = 20\n",
    "learning_rate = 0.001  # 调整学习率\n",
    "\n",
    "# 创建数据加载器\n",
    "train_dataset = CustomDataset(train_df)\n",
    "val_dataset = CustomDataset(val_df)\n",
    "test_dataset = CustomDataset(test_df)\n",
    "\n",
    "train_loader = DataLoader(train_dataset, batch_size=batch_size, shuffle=True)\n",
    "val_loader = DataLoader(val_dataset, batch_size=batch_size, shuffle=False)\n",
    "test_loader = DataLoader(test_dataset, batch_size=batch_size, shuffle=False)\n",
    "\n",
    "# 定义模型\n",
    "class MLPClassifier(nn.Module):\n",
    "    def __init__(self, input_size, hidden_size, num_classes):\n",
    "        super(MLPClassifier, self).__init__()\n",
    "        self.fc1 = nn.Linear(input_size, hidden_size)\n",
    "        self.relu = nn.ReLU()\n",
    "        self.dropout = nn.Dropout(0.2)\n",
    "        self.fc2 = nn.Linear(hidden_size, hidden_size)\n",
    "        self.fc3 = nn.Linear(hidden_size, num_classes)\n",
    "\n",
    "    def forward(self, x):\n",
    "        out = self.fc1(x)\n",
    "        out = self.relu(out)\n",
    "        out = self.dropout(out)\n",
    "        out = self.fc2(out)\n",
    "        out = self.relu(out)\n",
    "        out = self.dropout(out)\n",
    "        out = self.fc3(out)\n",
    "        return out\n",
    "\n",
    "# 实例化模型\n",
    "input_size = len(selected_cols[:-2])\n",
    "num_classes = 3\n",
    "model = MLPClassifier(input_size, hidden_size, num_classes)\n",
    "model = model.to(device)\n",
    "\n",
    "# 定义损失函数和优化器\n",
    "criterion = nn.CrossEntropyLoss()\n",
    "optimizer = optim.Adam(model.parameters(), lr=learning_rate, weight_decay=1e-5)\n",
    "\n",
    "# 训练模型\n",
    "best_val_acc = 0.0\n",
    "for epoch in range(num_epochs):\n",
    "    train_loss = 0.0\n",
    "    train_preds = []\n",
    "    train_labels = []\n",
    "\n",
    "    progress_bar = tqdm(train_loader, desc='Epoch {:1d}'.format(epoch+1), leave=False)\n",
    "\n",
    "    model.train()\n",
    "    for batch in progress_bar:\n",
    "        factor_data = batch['factor_data'].to(device)\n",
    "        labels = batch['label'].to(device)\n",
    "\n",
    "        optimizer.zero_grad()\n",
    "\n",
    "        logits = model(factor_data)\n",
    "\n",
    "        loss = criterion(logits, labels)\n",
    "\n",
    "        loss.backward()\n",
    "        optimizer.step()\n",
    "\n",
    "        train_loss += loss.item()\n",
    "\n",
    "        preds = torch.argmax(logits, dim=1)\n",
    "        train_preds.extend(preds.detach().cpu().numpy())\n",
    "        train_labels.extend(labels.detach().cpu().numpy())\n",
    "\n",
    "    train_loss /= len(train_loader)\n",
    "\n",
    "    train_acc = accuracy_score(train_labels, train_preds)\n",
    "\n",
    "    val_loss= 0.0\n",
    "    val_preds = []\n",
    "    val_labels = []\n",
    "\n",
    "    model.eval()\n",
    "    with torch.no_grad():\n",
    "        for batch in val_loader:\n",
    "            factor_data = batch['factor_data'].to(device)\n",
    "            labels = batch['label'].to(device)\n",
    "\n",
    "            logits = model(factor_data)\n",
    "\n",
    "            preds = torch.argmax(logits, dim=1)\n",
    "            val_preds.extend(preds.detach().cpu().numpy())\n",
    "            val_labels.extend(labels.detach().cpu().numpy())\n",
    "\n",
    "            val_loss += criterion(logits, labels).item()\n",
    "\n",
    "    val_loss /= len(val_loader)\n",
    "\n",
    "    val_acc = accuracy_score(val_labels, val_preds)\n",
    "\n",
    "    print(f\"Epoch {epoch+1}/{num_epochs}\")\n",
    "    print(f\"Train Loss: {train_loss:.4f}, Train Acc: {train_acc:.4f}\")\n",
    "    print(f\"Val Loss: {val_loss:.4f}, Val Acc: {val_acc:.4f}\\n\")\n",
    "\n",
    "    if val_acc > best_val_acc:\n",
    "        best_val_acc = val_acc\n",
    "        torch.save(model.state_dict(), 'Factor_best_model.pt')\n",
    "\n",
    "# 在测试集上评估模型\n",
    "test_loss = 0.0\n",
    "test_preds = []\n",
    "test_labels = []\n",
    "\n",
    "model.load_state_dict(torch.load('Factor_best_model.pt'))\n",
    "model.eval()\n",
    "with torch.no_grad():\n",
    "    for batch in test_loader:\n",
    "        factor_data = batch['factor_data'].to(device)\n",
    "        labels = batch['label'].to(device)\n",
    "\n",
    "        logits = model(factor_data)\n",
    "\n",
    "        preds = torch.argmax(logits, dim=1)\n",
    "        test_preds.extend(preds.detach().cpu().numpy())\n",
    "        test_labels.extend(labels.detach().cpu().numpy())\n",
    "\n",
    "        test_loss += criterion(logits, labels).item()\n",
    "\n",
    "test_loss /= len(test_loader)\n",
    "\n",
    "test_acc = accuracy_score(test_labels, test_preds)\n",
    "\n",
    "print(\"------------------------\")\n",
    "print(\"Final Evaluation\")\n",
    "print(\"------------------------\")\n",
    "print(f\"Test Loss: {test_loss:.4f}\")\n",
    "print(f\"Test Acc: {test_acc:.4f}\")\n"
   ]
  }
 ],
 "metadata": {
  "kernelspec": {
   "display_name": "Python 3",
   "language": "python",
   "name": "python3"
  },
  "language_info": {
   "codemirror_mode": {
    "name": "ipython",
    "version": 2
   },
   "file_extension": ".py",
   "mimetype": "text/x-python",
   "name": "python",
   "nbconvert_exporter": "python",
   "pygments_lexer": "ipython2",
   "version": "2.7.6"
  }
 },
 "nbformat": 4,
 "nbformat_minor": 0
}
